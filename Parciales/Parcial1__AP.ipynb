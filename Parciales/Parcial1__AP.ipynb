{
  "nbformat": 4,
  "nbformat_minor": 0,
  "metadata": {
    "colab": {
      "provenance": []
    },
    "kernelspec": {
      "name": "python3",
      "display_name": "Python 3"
    },
    "language_info": {
      "name": "python"
    }
  },
  "cells": [
    {
      "cell_type": "markdown",
      "source": [
        "# Parcial 1: Indicaciones.\n",
        "\n",
        "\n",
        "Para la base de datos https://data.world/exercises/linear-regression-exercise-1/workspace/file?filename=cancer_reg.csv determinar las variables predictoras (no necesariamente todas las existentes en la base de datos) y una variable a predecir. Realizar una regresión múltiple para el caso, y probar el modelo con y sin preprocesamiento de acuerdo a las características de los datos seleccionados. Reportar el error de entrenamiento y validación o de validación cruzada según la estrategia seleccionada. Justificar todos los supuestos y las decisiones tomadas. Concluir sobre los resultados.\n"
      ],
      "metadata": {
        "id": "3hcV0uPorsUS"
      }
    },
    {
      "cell_type": "code",
      "execution_count": 2,
      "metadata": {
        "id": "vWXRNBnOrkGR"
      },
      "outputs": [],
      "source": [
        "#Importamos las librerías necesarias\n",
        "import numpy as np\n",
        "import pandas as pd\n",
        "import matplotlib.pyplot as plt\n",
        "from sklearn.linear_model import LinearRegression\n",
        "from sklearn.preprocessing import PolynomialFeatures\n",
        "from sklearn.pipeline import Pipeline"
      ]
    },
    {
      "cell_type": "code",
      "source": [
        "#Conectar con drive\n",
        "from google.colab import drive\n",
        "drive.mount('/content/drive')"
      ],
      "metadata": {
        "colab": {
          "base_uri": "https://localhost:8080/"
        },
        "id": "ETN8jzf8uH73",
        "outputId": "ba6f1f86-ea2e-48a9-b59e-38ca2884d54f"
      },
      "execution_count": 1,
      "outputs": [
        {
          "output_type": "stream",
          "name": "stdout",
          "text": [
            "Mounted at /content/drive\n"
          ]
        }
      ]
    },
    {
      "cell_type": "code",
      "source": [
        "#Se carga el archivo CSV\n",
        "data = pd.read_csv('/content/drive/MyDrive/Aprendizaje Supervisado/Bases de Datos/cancer_reg.csv')\n",
        "#Se visualizan los datos\n",
        "print(data.head())\n",
        "print(data.describe())"
      ],
      "metadata": {
        "colab": {
          "base_uri": "https://localhost:8080/"
        },
        "collapsed": true,
        "id": "jbsyAI6XwJR_",
        "outputId": "cd1361c7-6a07-4c0e-e4d0-41ae6cad8538"
      },
      "execution_count": 3,
      "outputs": [
        {
          "output_type": "stream",
          "name": "stdout",
          "text": [
            "   avganncount  avgdeathsperyear  target_deathrate  incidencerate  medincome  \\\n",
            "0       1397.0               469             164.9          489.8      61898   \n",
            "1        173.0                70             161.3          411.6      48127   \n",
            "2        102.0                50             174.7          349.7      49348   \n",
            "3        427.0               202             194.8          430.4      44243   \n",
            "4         57.0                26             144.4          350.1      49955   \n",
            "\n",
            "   popest2015  povertypercent  studypercap           binnedinc  medianage  \\\n",
            "0      260131            11.2   499.748204   (61494.5, 125635]       39.3   \n",
            "1       43269            18.6    23.111234  (48021.6, 51046.4]       33.0   \n",
            "2       21026            14.6    47.560164  (48021.6, 51046.4]       45.0   \n",
            "3       75882            17.1   342.637253    (42724.4, 45201]       42.8   \n",
            "4       10321            12.5     0.000000  (48021.6, 51046.4]       48.3   \n",
            "\n",
            "   ...  pctprivatecoveragealone  pctempprivcoverage pctpubliccoverage  \\\n",
            "0  ...                      NaN                41.6              32.9   \n",
            "1  ...                     53.8                43.6              31.1   \n",
            "2  ...                     43.5                34.9              42.1   \n",
            "3  ...                     40.3                35.0              45.3   \n",
            "4  ...                     43.9                35.1              44.0   \n",
            "\n",
            "   pctpubliccoveragealone   pctwhite  pctblack  pctasian  pctotherrace  \\\n",
            "0                    14.0  81.780529  2.594728  4.821857      1.843479   \n",
            "1                    15.3  89.228509  0.969102  2.246233      3.741352   \n",
            "2                    21.1  90.922190  0.739673  0.465898      2.747358   \n",
            "3                    25.0  91.744686  0.782626  1.161359      1.362643   \n",
            "4                    22.7  94.104024  0.270192  0.665830      0.492135   \n",
            "\n",
            "   pctmarriedhouseholds  birthrate  \n",
            "0             52.856076   6.118831  \n",
            "1             45.372500   4.333096  \n",
            "2             54.444868   3.729488  \n",
            "3             51.021514   4.603841  \n",
            "4             54.027460   6.796657  \n",
            "\n",
            "[5 rows x 33 columns]\n",
            "        avganncount  avgdeathsperyear  target_deathrate  incidencerate  \\\n",
            "count   3047.000000       3047.000000       3047.000000    3047.000000   \n",
            "mean     606.338544        185.965868        178.664063     448.268586   \n",
            "std     1416.356223        504.134286         27.751511      54.560733   \n",
            "min        6.000000          3.000000         59.700000     201.300000   \n",
            "25%       76.000000         28.000000        161.200000     420.300000   \n",
            "50%      171.000000         61.000000        178.100000     453.549422   \n",
            "75%      518.000000        149.000000        195.200000     480.850000   \n",
            "max    38150.000000      14010.000000        362.800000    1206.900000   \n",
            "\n",
            "           medincome    popest2015  povertypercent  studypercap    medianage  \\\n",
            "count    3047.000000  3.047000e+03     3047.000000  3047.000000  3047.000000   \n",
            "mean    47063.281917  1.026374e+05       16.878175   155.399415    45.272333   \n",
            "std     12040.090836  3.290592e+05        6.409087   529.628366    45.304480   \n",
            "min     22640.000000  8.270000e+02        3.200000     0.000000    22.300000   \n",
            "25%     38882.500000  1.168400e+04       12.150000     0.000000    37.700000   \n",
            "50%     45207.000000  2.664300e+04       15.900000     0.000000    41.000000   \n",
            "75%     52492.000000  6.867100e+04       20.400000    83.650776    44.000000   \n",
            "max    125635.000000  1.017029e+07       47.400000  9762.308998   624.000000   \n",
            "\n",
            "       medianagemale  ...  pctprivatecoveragealone  pctempprivcoverage  \\\n",
            "count    3047.000000  ...              2438.000000         3047.000000   \n",
            "mean       39.570725  ...                48.453774           41.196324   \n",
            "std         5.226017  ...                10.083006            9.447687   \n",
            "min        22.400000  ...                15.700000           13.500000   \n",
            "25%        36.350000  ...                41.000000           34.500000   \n",
            "50%        39.600000  ...                48.700000           41.100000   \n",
            "75%        42.500000  ...                55.600000           47.700000   \n",
            "max        64.700000  ...                78.900000           70.700000   \n",
            "\n",
            "       pctpubliccoverage  pctpubliccoveragealone     pctwhite     pctblack  \\\n",
            "count        3047.000000             3047.000000  3047.000000  3047.000000   \n",
            "mean           36.252642               19.240072    83.645286     9.107978   \n",
            "std             7.841741                6.113041    16.380025    14.534538   \n",
            "min            11.200000                2.600000    10.199155     0.000000   \n",
            "25%            30.900000               14.850000    77.296180     0.620675   \n",
            "50%            36.300000               18.800000    90.059774     2.247576   \n",
            "75%            41.550000               23.100000    95.451693    10.509732   \n",
            "max            65.100000               46.600000   100.000000    85.947799   \n",
            "\n",
            "          pctasian  pctotherrace  pctmarriedhouseholds    birthrate  \n",
            "count  3047.000000   3047.000000           3047.000000  3047.000000  \n",
            "mean      1.253965      1.983523             51.243872     5.640306  \n",
            "std       2.610276      3.517710              6.572814     1.985816  \n",
            "min       0.000000      0.000000             22.992490     0.000000  \n",
            "25%       0.254199      0.295172             47.763063     4.521419  \n",
            "50%       0.549812      0.826185             51.669941     5.381478  \n",
            "75%       1.221037      2.177960             55.395132     6.493677  \n",
            "max      42.619425     41.930251             78.075397    21.326165  \n",
            "\n",
            "[8 rows x 31 columns]\n"
          ]
        }
      ]
    },
    {
      "cell_type": "code",
      "source": [
        "#Visualizmaos el nombre de las columnas\n",
        "data.columns"
      ],
      "metadata": {
        "colab": {
          "base_uri": "https://localhost:8080/"
        },
        "id": "kJo0G7IcwyJL",
        "outputId": "89707cf0-9408-4521-eee2-f94278035182"
      },
      "execution_count": 4,
      "outputs": [
        {
          "output_type": "execute_result",
          "data": {
            "text/plain": [
              "Index(['avganncount', 'avgdeathsperyear', 'target_deathrate', 'incidencerate',\n",
              "       'medincome', 'popest2015', 'povertypercent', 'studypercap', 'binnedinc',\n",
              "       'medianage', 'medianagemale', 'medianagefemale', 'geography',\n",
              "       'percentmarried', 'pctnohs18_24', 'pcths18_24', 'pctsomecol18_24',\n",
              "       'pctbachdeg18_24', 'pcths25_over', 'pctbachdeg25_over',\n",
              "       'pctemployed16_over', 'pctunemployed16_over', 'pctprivatecoverage',\n",
              "       'pctprivatecoveragealone', 'pctempprivcoverage', 'pctpubliccoverage',\n",
              "       'pctpubliccoveragealone', 'pctwhite', 'pctblack', 'pctasian',\n",
              "       'pctotherrace', 'pctmarriedhouseholds', 'birthrate'],\n",
              "      dtype='object')"
            ]
          },
          "metadata": {},
          "execution_count": 4
        }
      ]
    },
    {
      "cell_type": "code",
      "source": [
        "#Seleccionamos las variables predictorias y la variable objetivo\n",
        "Vp= ['incidencerate', 'pctprivatecoverage', 'pctpubliccoverage', 'medincome', 'povertypercent']\n",
        "Vo= ['target_deathrate']"
      ],
      "metadata": {
        "id": "4m88yC-KynoB"
      },
      "execution_count": 22,
      "outputs": []
    },
    {
      "cell_type": "code",
      "source": [
        "#Separamos las variables predictorias y objetivo\n",
        "X = data[Vp]\n",
        "y = data[Vo]"
      ],
      "metadata": {
        "id": "qWQdZuzK0gDT"
      },
      "execution_count": 23,
      "outputs": []
    },
    {
      "cell_type": "code",
      "source": [
        "#Dividimos los datos en conjuntos de entrenamiento y prueba (80% - 20%)\n",
        "from sklearn.model_selection import train_test_split\n",
        "X_train, X_test, y_train, y_test = train_test_split(X, y, test_size=0.2, random_state=42)"
      ],
      "metadata": {
        "id": "LpH4FUgH0_Ax"
      },
      "execution_count": 24,
      "outputs": []
    },
    {
      "cell_type": "code",
      "source": [
        "#Instanciamos y creamos el modelo de regresión lineal\n",
        "model = LinearRegression() #Intanciamos\n",
        "model.fit(X_train, y_train) #Entrenamos el modelo"
      ],
      "metadata": {
        "colab": {
          "base_uri": "https://localhost:8080/",
          "height": 74
        },
        "id": "anh4iBwn2CZ8",
        "outputId": "0c790b96-4888-460a-8dfb-a86252e9fead"
      },
      "execution_count": 25,
      "outputs": [
        {
          "output_type": "execute_result",
          "data": {
            "text/plain": [
              "LinearRegression()"
            ],
            "text/html": [
              "<style>#sk-container-id-2 {color: black;}#sk-container-id-2 pre{padding: 0;}#sk-container-id-2 div.sk-toggleable {background-color: white;}#sk-container-id-2 label.sk-toggleable__label {cursor: pointer;display: block;width: 100%;margin-bottom: 0;padding: 0.3em;box-sizing: border-box;text-align: center;}#sk-container-id-2 label.sk-toggleable__label-arrow:before {content: \"▸\";float: left;margin-right: 0.25em;color: #696969;}#sk-container-id-2 label.sk-toggleable__label-arrow:hover:before {color: black;}#sk-container-id-2 div.sk-estimator:hover label.sk-toggleable__label-arrow:before {color: black;}#sk-container-id-2 div.sk-toggleable__content {max-height: 0;max-width: 0;overflow: hidden;text-align: left;background-color: #f0f8ff;}#sk-container-id-2 div.sk-toggleable__content pre {margin: 0.2em;color: black;border-radius: 0.25em;background-color: #f0f8ff;}#sk-container-id-2 input.sk-toggleable__control:checked~div.sk-toggleable__content {max-height: 200px;max-width: 100%;overflow: auto;}#sk-container-id-2 input.sk-toggleable__control:checked~label.sk-toggleable__label-arrow:before {content: \"▾\";}#sk-container-id-2 div.sk-estimator input.sk-toggleable__control:checked~label.sk-toggleable__label {background-color: #d4ebff;}#sk-container-id-2 div.sk-label input.sk-toggleable__control:checked~label.sk-toggleable__label {background-color: #d4ebff;}#sk-container-id-2 input.sk-hidden--visually {border: 0;clip: rect(1px 1px 1px 1px);clip: rect(1px, 1px, 1px, 1px);height: 1px;margin: -1px;overflow: hidden;padding: 0;position: absolute;width: 1px;}#sk-container-id-2 div.sk-estimator {font-family: monospace;background-color: #f0f8ff;border: 1px dotted black;border-radius: 0.25em;box-sizing: border-box;margin-bottom: 0.5em;}#sk-container-id-2 div.sk-estimator:hover {background-color: #d4ebff;}#sk-container-id-2 div.sk-parallel-item::after {content: \"\";width: 100%;border-bottom: 1px solid gray;flex-grow: 1;}#sk-container-id-2 div.sk-label:hover label.sk-toggleable__label {background-color: #d4ebff;}#sk-container-id-2 div.sk-serial::before {content: \"\";position: absolute;border-left: 1px solid gray;box-sizing: border-box;top: 0;bottom: 0;left: 50%;z-index: 0;}#sk-container-id-2 div.sk-serial {display: flex;flex-direction: column;align-items: center;background-color: white;padding-right: 0.2em;padding-left: 0.2em;position: relative;}#sk-container-id-2 div.sk-item {position: relative;z-index: 1;}#sk-container-id-2 div.sk-parallel {display: flex;align-items: stretch;justify-content: center;background-color: white;position: relative;}#sk-container-id-2 div.sk-item::before, #sk-container-id-2 div.sk-parallel-item::before {content: \"\";position: absolute;border-left: 1px solid gray;box-sizing: border-box;top: 0;bottom: 0;left: 50%;z-index: -1;}#sk-container-id-2 div.sk-parallel-item {display: flex;flex-direction: column;z-index: 1;position: relative;background-color: white;}#sk-container-id-2 div.sk-parallel-item:first-child::after {align-self: flex-end;width: 50%;}#sk-container-id-2 div.sk-parallel-item:last-child::after {align-self: flex-start;width: 50%;}#sk-container-id-2 div.sk-parallel-item:only-child::after {width: 0;}#sk-container-id-2 div.sk-dashed-wrapped {border: 1px dashed gray;margin: 0 0.4em 0.5em 0.4em;box-sizing: border-box;padding-bottom: 0.4em;background-color: white;}#sk-container-id-2 div.sk-label label {font-family: monospace;font-weight: bold;display: inline-block;line-height: 1.2em;}#sk-container-id-2 div.sk-label-container {text-align: center;}#sk-container-id-2 div.sk-container {/* jupyter's `normalize.less` sets `[hidden] { display: none; }` but bootstrap.min.css set `[hidden] { display: none !important; }` so we also need the `!important` here to be able to override the default hidden behavior on the sphinx rendered scikit-learn.org. See: https://github.com/scikit-learn/scikit-learn/issues/21755 */display: inline-block !important;position: relative;}#sk-container-id-2 div.sk-text-repr-fallback {display: none;}</style><div id=\"sk-container-id-2\" class=\"sk-top-container\"><div class=\"sk-text-repr-fallback\"><pre>LinearRegression()</pre><b>In a Jupyter environment, please rerun this cell to show the HTML representation or trust the notebook. <br />On GitHub, the HTML representation is unable to render, please try loading this page with nbviewer.org.</b></div><div class=\"sk-container\" hidden><div class=\"sk-item\"><div class=\"sk-estimator sk-toggleable\"><input class=\"sk-toggleable__control sk-hidden--visually\" id=\"sk-estimator-id-2\" type=\"checkbox\" checked><label for=\"sk-estimator-id-2\" class=\"sk-toggleable__label sk-toggleable__label-arrow\">LinearRegression</label><div class=\"sk-toggleable__content\"><pre>LinearRegression()</pre></div></div></div></div></div>"
            ]
          },
          "metadata": {},
          "execution_count": 25
        }
      ]
    },
    {
      "cell_type": "code",
      "source": [
        "#Miramos el score para saber el rendimiento del modelo\n",
        "model.score(X, y)"
      ],
      "metadata": {
        "colab": {
          "base_uri": "https://localhost:8080/"
        },
        "id": "ITY6WT_t2YSy",
        "outputId": "6e5e7b9c-fb15-4db3-c7bb-8a1bba377b7c"
      },
      "execution_count": 26,
      "outputs": [
        {
          "output_type": "execute_result",
          "data": {
            "text/plain": [
              "0.4200453177440565"
            ]
          },
          "metadata": {},
          "execution_count": 26
        }
      ]
    },
    {
      "cell_type": "code",
      "source": [
        "#Evaluamos el modelo son preprocesamiento\n",
        "y_pred_train = model.predict(X_train)\n",
        "y_pred_test = model.predict(X_test)\n",
        "\n",
        "#Calculamos el error\n",
        "from sklearn.metrics import mean_squared_error\n",
        "train_error = mean_squared_error(y_train, y_pred_train)\n",
        "test_error= mean_squared_error(y_test, y_pred_test)\n",
        "\n",
        "print(\"Error de entrenamiento:\", train_error)\n",
        "print(\"Error de prueba:\", test_error)"
      ],
      "metadata": {
        "colab": {
          "base_uri": "https://localhost:8080/"
        },
        "id": "O6-YDiBl3kk9",
        "outputId": "22366222-81b0-481b-9a71-7f47d659d9e1"
      },
      "execution_count": 27,
      "outputs": [
        {
          "output_type": "stream",
          "name": "stdout",
          "text": [
            "Error de entrenamiento: 441.8890590471096\n",
            "Error de prueba: 464.93813310627337\n"
          ]
        }
      ]
    },
    {
      "cell_type": "code",
      "source": [
        "#Preprocesamiento\n",
        "pipe = Pipeline([('poly', PolynomialFeatures()),\n",
        "                 ('model', LinearRegression(fit_intercept=True))])"
      ],
      "metadata": {
        "id": "YPjaf-1X45Fl"
      },
      "execution_count": 28,
      "outputs": []
    },
    {
      "cell_type": "code",
      "source": [
        "#Entrenamos el modelo con preprocesamiento\n",
        "pipe.fit(X_train, y_train)"
      ],
      "metadata": {
        "colab": {
          "base_uri": "https://localhost:8080/",
          "height": 171
        },
        "id": "k4EBYhAN7qQP",
        "outputId": "68e42514-ce2e-4c22-9651-d5ac91742e56"
      },
      "execution_count": 31,
      "outputs": [
        {
          "output_type": "execute_result",
          "data": {
            "text/plain": [
              "Pipeline(steps=[('poly', PolynomialFeatures()), ('model', LinearRegression())])"
            ],
            "text/html": [
              "<style>#sk-container-id-3 {color: black;}#sk-container-id-3 pre{padding: 0;}#sk-container-id-3 div.sk-toggleable {background-color: white;}#sk-container-id-3 label.sk-toggleable__label {cursor: pointer;display: block;width: 100%;margin-bottom: 0;padding: 0.3em;box-sizing: border-box;text-align: center;}#sk-container-id-3 label.sk-toggleable__label-arrow:before {content: \"▸\";float: left;margin-right: 0.25em;color: #696969;}#sk-container-id-3 label.sk-toggleable__label-arrow:hover:before {color: black;}#sk-container-id-3 div.sk-estimator:hover label.sk-toggleable__label-arrow:before {color: black;}#sk-container-id-3 div.sk-toggleable__content {max-height: 0;max-width: 0;overflow: hidden;text-align: left;background-color: #f0f8ff;}#sk-container-id-3 div.sk-toggleable__content pre {margin: 0.2em;color: black;border-radius: 0.25em;background-color: #f0f8ff;}#sk-container-id-3 input.sk-toggleable__control:checked~div.sk-toggleable__content {max-height: 200px;max-width: 100%;overflow: auto;}#sk-container-id-3 input.sk-toggleable__control:checked~label.sk-toggleable__label-arrow:before {content: \"▾\";}#sk-container-id-3 div.sk-estimator input.sk-toggleable__control:checked~label.sk-toggleable__label {background-color: #d4ebff;}#sk-container-id-3 div.sk-label input.sk-toggleable__control:checked~label.sk-toggleable__label {background-color: #d4ebff;}#sk-container-id-3 input.sk-hidden--visually {border: 0;clip: rect(1px 1px 1px 1px);clip: rect(1px, 1px, 1px, 1px);height: 1px;margin: -1px;overflow: hidden;padding: 0;position: absolute;width: 1px;}#sk-container-id-3 div.sk-estimator {font-family: monospace;background-color: #f0f8ff;border: 1px dotted black;border-radius: 0.25em;box-sizing: border-box;margin-bottom: 0.5em;}#sk-container-id-3 div.sk-estimator:hover {background-color: #d4ebff;}#sk-container-id-3 div.sk-parallel-item::after {content: \"\";width: 100%;border-bottom: 1px solid gray;flex-grow: 1;}#sk-container-id-3 div.sk-label:hover label.sk-toggleable__label {background-color: #d4ebff;}#sk-container-id-3 div.sk-serial::before {content: \"\";position: absolute;border-left: 1px solid gray;box-sizing: border-box;top: 0;bottom: 0;left: 50%;z-index: 0;}#sk-container-id-3 div.sk-serial {display: flex;flex-direction: column;align-items: center;background-color: white;padding-right: 0.2em;padding-left: 0.2em;position: relative;}#sk-container-id-3 div.sk-item {position: relative;z-index: 1;}#sk-container-id-3 div.sk-parallel {display: flex;align-items: stretch;justify-content: center;background-color: white;position: relative;}#sk-container-id-3 div.sk-item::before, #sk-container-id-3 div.sk-parallel-item::before {content: \"\";position: absolute;border-left: 1px solid gray;box-sizing: border-box;top: 0;bottom: 0;left: 50%;z-index: -1;}#sk-container-id-3 div.sk-parallel-item {display: flex;flex-direction: column;z-index: 1;position: relative;background-color: white;}#sk-container-id-3 div.sk-parallel-item:first-child::after {align-self: flex-end;width: 50%;}#sk-container-id-3 div.sk-parallel-item:last-child::after {align-self: flex-start;width: 50%;}#sk-container-id-3 div.sk-parallel-item:only-child::after {width: 0;}#sk-container-id-3 div.sk-dashed-wrapped {border: 1px dashed gray;margin: 0 0.4em 0.5em 0.4em;box-sizing: border-box;padding-bottom: 0.4em;background-color: white;}#sk-container-id-3 div.sk-label label {font-family: monospace;font-weight: bold;display: inline-block;line-height: 1.2em;}#sk-container-id-3 div.sk-label-container {text-align: center;}#sk-container-id-3 div.sk-container {/* jupyter's `normalize.less` sets `[hidden] { display: none; }` but bootstrap.min.css set `[hidden] { display: none !important; }` so we also need the `!important` here to be able to override the default hidden behavior on the sphinx rendered scikit-learn.org. See: https://github.com/scikit-learn/scikit-learn/issues/21755 */display: inline-block !important;position: relative;}#sk-container-id-3 div.sk-text-repr-fallback {display: none;}</style><div id=\"sk-container-id-3\" class=\"sk-top-container\"><div class=\"sk-text-repr-fallback\"><pre>Pipeline(steps=[(&#x27;poly&#x27;, PolynomialFeatures()), (&#x27;model&#x27;, LinearRegression())])</pre><b>In a Jupyter environment, please rerun this cell to show the HTML representation or trust the notebook. <br />On GitHub, the HTML representation is unable to render, please try loading this page with nbviewer.org.</b></div><div class=\"sk-container\" hidden><div class=\"sk-item sk-dashed-wrapped\"><div class=\"sk-label-container\"><div class=\"sk-label sk-toggleable\"><input class=\"sk-toggleable__control sk-hidden--visually\" id=\"sk-estimator-id-3\" type=\"checkbox\" ><label for=\"sk-estimator-id-3\" class=\"sk-toggleable__label sk-toggleable__label-arrow\">Pipeline</label><div class=\"sk-toggleable__content\"><pre>Pipeline(steps=[(&#x27;poly&#x27;, PolynomialFeatures()), (&#x27;model&#x27;, LinearRegression())])</pre></div></div></div><div class=\"sk-serial\"><div class=\"sk-item\"><div class=\"sk-estimator sk-toggleable\"><input class=\"sk-toggleable__control sk-hidden--visually\" id=\"sk-estimator-id-4\" type=\"checkbox\" ><label for=\"sk-estimator-id-4\" class=\"sk-toggleable__label sk-toggleable__label-arrow\">PolynomialFeatures</label><div class=\"sk-toggleable__content\"><pre>PolynomialFeatures()</pre></div></div></div><div class=\"sk-item\"><div class=\"sk-estimator sk-toggleable\"><input class=\"sk-toggleable__control sk-hidden--visually\" id=\"sk-estimator-id-5\" type=\"checkbox\" ><label for=\"sk-estimator-id-5\" class=\"sk-toggleable__label sk-toggleable__label-arrow\">LinearRegression</label><div class=\"sk-toggleable__content\"><pre>LinearRegression()</pre></div></div></div></div></div></div></div>"
            ]
          },
          "metadata": {},
          "execution_count": 31
        }
      ]
    },
    {
      "cell_type": "code",
      "source": [
        "#Evaluar el modelo con preprocesamiento\n",
        "y_pred_train_poly = pipe.predict(X_train)\n",
        "y_pred_test_train = pipe.predict(X_test)"
      ],
      "metadata": {
        "id": "o1q8CILN8Uya"
      },
      "execution_count": 32,
      "outputs": []
    },
    {
      "cell_type": "code",
      "source": [
        "#Calcular el MSE con preprocesamiento\n",
        "train_error_poly = mean_squared_error(y_train, y_pred_train_poly)\n",
        "test_error_poly = mean_squared_error(y_test, y_pred_test_train)\n",
        "\n",
        "print(\"Error de entrenamiento con preprocesamiento:\", train_error_poly)\n",
        "print(\"Error de prueba con preprocesamiento:\", test_error_poly)"
      ],
      "metadata": {
        "colab": {
          "base_uri": "https://localhost:8080/"
        },
        "id": "7DNvzbCD8o2N",
        "outputId": "8c74207c-26c9-4990-f059-d58166fa92b8"
      },
      "execution_count": 33,
      "outputs": [
        {
          "output_type": "stream",
          "name": "stdout",
          "text": [
            "Error de entrenamiento con preprocesamiento: 407.1848922589658\n",
            "Error de prueba con preprocesamiento: 430.5780118422436\n"
          ]
        }
      ]
    },
    {
      "cell_type": "code",
      "source": [
        "#Validación cruzada y ajuste del grado del polinomio\n",
        "#Definimos los diferentes grados de polonimo\n",
        "poly_degrees = [1, 2, 3, 4, 5]"
      ],
      "metadata": {
        "id": "BoDlT-148_8-"
      },
      "execution_count": 34,
      "outputs": []
    },
    {
      "cell_type": "code",
      "source": [
        "#vamos a crear una lista vacía para almacenas los scores que resulten de evaluar las regresiones polinomicas con cada uno de los grados\n",
        "scores_train = []\n",
        "scores_test = []"
      ],
      "metadata": {
        "id": "gGlKHBEJ-rIA"
      },
      "execution_count": 37,
      "outputs": []
    },
    {
      "cell_type": "code",
      "source": [
        "# Probar diferentes grados de polinomio\n",
        "from sklearn.model_selection import cross_val_score\n",
        "for degree in poly_degrees:\n",
        "    # Crear un pipeline que estandarice los datos y aplique regresión polinómica\n",
        "    pipeline = Pipeline([\n",
        "        ('poly_features', PolynomialFeatures(degree=degree)),\n",
        "        ('regressor', LinearRegression())\n",
        "    ])\n",
        "    #calcular el score de validación cruzada\n",
        "    scores = cross_val_score(pipeline, X, y, cv=5, scoring='neg_mean_squared_error') #Removed extra indent\n",
        "    scores_train.append(-np.mean(scores))"
      ],
      "metadata": {
        "id": "Jdh-YZOD_W3L"
      },
      "execution_count": 41,
      "outputs": []
    },
    {
      "cell_type": "code",
      "source": [
        "scores.mean()"
      ],
      "metadata": {
        "colab": {
          "base_uri": "https://localhost:8080/"
        },
        "id": "CfpM6q8DAMZv",
        "outputId": "1957b1e0-6475-4b28-e7a3-0cfdbff692d6"
      },
      "execution_count": 44,
      "outputs": [
        {
          "output_type": "execute_result",
          "data": {
            "text/plain": [
              "-4091.59769189983"
            ]
          },
          "metadata": {},
          "execution_count": 44
        }
      ]
    },
    {
      "cell_type": "code",
      "source": [
        "score_RMS = cross_val_score(LinearRegression(fit_intercept = True),\n",
        "                        X, y, cv = 5, scoring = \"neg_mean_squared_error\")"
      ],
      "metadata": {
        "id": "qppjubGrAV2i"
      },
      "execution_count": 45,
      "outputs": []
    },
    {
      "cell_type": "code",
      "source": [
        "-score_RMS.mean()"
      ],
      "metadata": {
        "colab": {
          "base_uri": "https://localhost:8080/"
        },
        "id": "Lx87WrR6AYfA",
        "outputId": "cece7b3c-2743-46ea-f6bc-000e3a94fbd7"
      },
      "execution_count": 46,
      "outputs": [
        {
          "output_type": "execute_result",
          "data": {
            "text/plain": [
              "457.41688706813085"
            ]
          },
          "metadata": {},
          "execution_count": 46
        }
      ]
    },
    {
      "cell_type": "markdown",
      "source": [
        "##Análisis del Proceso:\n",
        "\n",
        "1. **Modelo sin preprocesamiento:**\n",
        "\n",
        "Como primer momento el modelo tiene un score de 42% con un error de entrenamiento de 441.89 y el error de prueba de 464.93. Esto indica que el modelo se ajusta con una pequeña diferencia.\n",
        "\n",
        "2. **Preprocesamiento:**\n",
        "\n",
        "Después se realizó el preprocesamiento de los datos usando una regresión polinomica y se obtuvieron los datos en error de entramiento de 407.18 y error de prueba 430.57, lo que indica que la transformación polínómica toma mejor la relación entre las variables.\n",
        "\n",
        "3. **Validación cruzada**:\n",
        "\n",
        "AL probar los diferentes grados del polinomo, los errores medios -4091.59 y 457.41 para el ajuste) indican que el grado de polinomio y la validación cruzada han ayudado a reducir el error cuadrático medio, obteniendo una estimación más precisa. Esto es particularmente útil para evitar sobreajuste.\n"
      ],
      "metadata": {
        "id": "6De_VF8tA_nk"
      }
    }
  ]
}