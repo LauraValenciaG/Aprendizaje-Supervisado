{
  "nbformat": 4,
  "nbformat_minor": 0,
  "metadata": {
    "colab": {
      "provenance": []
    },
    "kernelspec": {
      "name": "python3",
      "display_name": "Python 3"
    },
    "language_info": {
      "name": "python"
    }
  },
  "cells": [
    {
      "cell_type": "markdown",
      "source": [
        "# Perceptrón\n"
      ],
      "metadata": {
        "id": "f2Sn8IWR9K17"
      }
    },
    {
      "cell_type": "markdown",
      "source": [
        "El perceptrón es uno de los modelos más simples de redes neuronales. Es un clasificador binario que toma una decisión lineal para separar dos clases. Utiliza una función de activación escalón para determinar la salida. Debería ofrecer una precisión alta si los datos son linealmente separables.\n",
        "\n",
        "En este caso, podemos usar datos simples como la clasificación de transacciones contables en \"gastos\" (0) e e\"ingresos\" (1).\n",
        "\n",
        "| Montos | Tipo |\n",
        "|--------|------|\n",
        "| 500    | 1    | (Ingreso)\n",
        "| 300    | 1    | (Ingreso)\n",
        "| -200   | 0    | (Gasto)\n",
        "| -150   | 0    | (Gasto)"
      ],
      "metadata": {
        "id": "ZZgGNB2i7gmL"
      }
    },
    {
      "cell_type": "markdown",
      "source": [
        "## Implementación en `tensorflow`"
      ],
      "metadata": {
        "id": "2VlJu2dS9ipd"
      }
    },
    {
      "cell_type": "code",
      "source": [
        "import tensorflow as tf\n",
        "import numpy as np\n",
        "\n",
        "# Datos del ejemplo, creamos los datos de entrada (montos) y la etiqueta (tipos)\n",
        "montos = np.array([[500], [300], [-200], [-150]], dtype=np.float32)\n",
        "tipos = np.array([[1], [1], [0], [0]], dtype=np.float32)\n",
        "\n",
        "# Creamos el modelo de perceptrón. units el número de neuronas. El perceptrón tiene 1\n",
        "# La función de activación debería ser escalón, pero keras no la tiene...usaremos la más similar\n",
        "modelo = tf.keras.Sequential([tf.keras.layers.Dense(units=1, activation = 'sigmoid')])\n",
        "\n",
        "# Compilamos el modelo. El optimizador será el que se encargue de actualizar\n",
        "# los pesos, en este caso será gradiente descendente estocástico\n",
        "modelo.compile(optimizer = 'sgd', loss = 'binary_crossentropy',\n",
        "               metrics = ['accuracy'])\n",
        "\n",
        "# Entrenamos el modelo modelo.\n",
        "# Una época significa entrenar la red neuronal con todos los datos\n",
        "# de entrenamiento para un ciclo . En una época, usamos todos los datos exactamente una vez.\n",
        "# Un pase hacia adelante para el cálculo de la salida y un pase hacia atrás para el cálculo del error,\n",
        "# juntos se cuentan como un pase.\n",
        "# Una época se compone de uno o más lotes, donde usamos una parte del conjunto de datos para\n",
        "# entrenar la red neuronal.\n",
        "modelo.fit(montos, tipos, epochs=10)\n",
        "\n",
        "# Calculamos la precisión (accuracy)\n",
        "accuracy = np.mean(predicted_classes.flatten() == tipos.flatten())\n",
        "print(accuracy)\n",
        "\n",
        "# Evaluamos el modelo con el error de entrenamiento\n",
        "predicted = modelo.predict(montos)\n",
        "predicted_classes = (predicted >= 0.5).astype(int)  # Umbral para clasificación (0.5))\n",
        "print(predicted_classes)"
      ],
      "metadata": {
        "colab": {
          "base_uri": "https://localhost:8080/"
        },
        "id": "am286p_s-GQr",
        "outputId": "751c6aea-e848-42ac-eed1-e74b5a25cde5"
      },
      "execution_count": null,
      "outputs": [
        {
          "output_type": "execute_result",
          "data": {
            "text/plain": [
              "1.0"
            ]
          },
          "metadata": {},
          "execution_count": 14
        }
      ]
    },
    {
      "cell_type": "markdown",
      "source": [
        "## Implementación en `Pytorch`"
      ],
      "metadata": {
        "id": "W2s2kfseB-hN"
      }
    },
    {
      "cell_type": "code",
      "source": [
        "import torch\n",
        "import torch.nn as nn\n",
        "import torch.optim as optim\n",
        "\n",
        "# hacemos tensores con los datos de entrada y la variable objetivo\n",
        "X = torch.tensor(montos, dtype=torch.float32)\n",
        "\n",
        "y = torch.tensor(tipos, dtype=torch.float32)\n",
        "\n",
        "# Hacemos la clase perceptrón. En el __init__ están los atributos de la clase\n",
        "# las demás funciones son llamados métodos\n",
        "class Perceptron(nn.Module):\n",
        "    def __init__(self):\n",
        "        super(Perceptron, self).__init__()\n",
        "        self.linear = nn.Linear(1, 1) #define las entradas y las neuronas en cada capa.\n",
        "                                      #tenemos solo una caracterítica a la entrada\n",
        "\n",
        "    def forward(self, x): #es el método para aplicar un sigmoide a la salida. La idea sería un escalón\n",
        "        return torch.sigmoid(self.linear(x))\n",
        "\n",
        "# Definimos un objeto de la clase Perceptrón\n",
        "model_pytorch = Perceptron()\n",
        "\n",
        "# Establecemos el criterio de pérdida (Binary Cross Entropy Loss) y\n",
        "# el optimizador (gradiente descendente)\n",
        "criterion = nn.BCELoss()\n",
        "optimizer = optim.SGD(model_pytorch.parameters(), lr=0.01) #lr es la tasa de aprendizaje\n",
        "\n",
        "# Hacemos el entrenamiento con 100 épocas\n",
        "for epoch in range(100):\n",
        "    optimizer.zero_grad() # limpiar los gradientes anteriores\n",
        "    outputs = model_pytorch(X) #entrenamos\n",
        "    loss = criterion(outputs, y) #calculamos la pérdida\n",
        "    loss.backward() #hacemos el backward para calcular los nuevos gradientes\n",
        "    optimizer.step() #ajustamos los pesos del modelo usando los gradientes calculados en loss.backward()\n",
        "\n",
        "# Evaluamos la red con el mismo conjunto de entrenamiento (acierto de entrenamiento = 1- error de entrenamiento)\n",
        "with torch.no_grad():\n",
        "    predicted = model_pytorch(X) #realizamos la predicción\n",
        "    predicted_classes = (predicted >= 0.5).float() #establecemos el umbral\n",
        "    accuracy = (predicted_classes.eq(y).sum().item()) / y.size(0) #calculamos el acierto\n",
        "    print(f'Perceptrón (PyTorch) - Precisión: {accuracy*100:.2f}%')"
      ],
      "metadata": {
        "colab": {
          "base_uri": "https://localhost:8080/"
        },
        "id": "9BV0OaI6B9N-",
        "outputId": "96bd9ec7-cad3-46af-ce3e-6a6ad67a0b18"
      },
      "execution_count": null,
      "outputs": [
        {
          "output_type": "stream",
          "name": "stdout",
          "text": [
            "Perceptrón (PyTorch) - Precisión: 100.00%\n"
          ]
        }
      ]
    },
    {
      "cell_type": "markdown",
      "source": [
        "# Adaline  (ADAptive LInear NEuron)"
      ],
      "metadata": {
        "id": "YwWYFZSPjVrp"
      }
    },
    {
      "cell_type": "markdown",
      "source": [
        "Adaline es similar al perceptrón, pero en lugar de usar una función de activación escalón, utiliza una función de activación lineal y minimiza el error cuadrático medio. Esto lo hace más adecuado para problemas de regresión y clasificación con gradiente descendente.\n",
        "\n",
        "Vamos a crear un conjunto de datos relacionado con la aprobación de préstamos. Las características serán:\n",
        "\n",
        "- Ingresos mensuales (en miles de dólares)\n",
        "- Deuda actual (en miles de dólares)\n",
        "- Historial de crédito (1: bueno, 0: malo)\n",
        "\n",
        "|Ingresos|\tDeuda\t|Historial\t|Aprobado|\n",
        "|--------|--------|-----------|--------|\n",
        "|5\t|1.5\t|1|\t1|\n",
        "|3\t|2.0\t|0\t|0|\n",
        "|4\t|1.0\t|1\t|1|\n",
        "|2\t|2.5\t|0\t|0|\n",
        "|6\t|1.2\t|1\t|1|\n",
        "|3.5|\t2.2\t|0\t|0|"
      ],
      "metadata": {
        "id": "Oiejkp4EjXLo"
      }
    },
    {
      "cell_type": "code",
      "source": [
        "# Cargamos las librería\n",
        "import tensorflow as tf\n",
        "import numpy as np\n",
        "\n",
        "# Definimos la matriz de datos o características\n",
        "X = np.array([\n",
        "    [5, 1.5, 1],\n",
        "    [3, 2.0, 0],\n",
        "    [4, 1.0, 1],\n",
        "    [2, 2.5, 0],\n",
        "    [6, 1.2, 1],\n",
        "    [3.5, 2.2, 0]\n",
        "], dtype=float)\n",
        "\n",
        "# Nuestra característica objetivo será la columna Aprobado\n",
        "y = np.array([1, 0, 1, 0, 1, 0], dtype=float)\n"
      ],
      "metadata": {
        "id": "CnH2gc9rkUA7"
      },
      "execution_count": 1,
      "outputs": []
    },
    {
      "cell_type": "markdown",
      "source": [
        "## Implementación con `tensorflow`"
      ],
      "metadata": {
        "id": "Z8voaxX1mWhu"
      }
    },
    {
      "cell_type": "code",
      "source": [
        "# Instanciamos el modelo Adaline. Aunque no existe directamente, se puede generar con la función de activación lineal.\n",
        "# Tenemos tres entradas (Ingreso, Deuda, Historial)\n",
        "model_adaline = tf.keras.Sequential([tf.keras.layers.Dense(1, activation='linear', input_shape=(3,))])\n",
        "\n",
        "# Compilamos nuestro modelo. Para Adaline la función de pérdida está dada por el MSE\n",
        "model_adaline.compile(optimizer='sgd',\n",
        "                      loss='mean_squared_error',\n",
        "                      metrics=['mean_squared_error'])\n",
        "\n",
        "# Entrenamos el modelo. Al establecer el parámetro 'verbose' en  0, 1 o 2, simplemente dices cómo deseas \"ver\" el progreso del entrenamiento para cada época.\n",
        "model_adaline.fit(X, y, epochs=100, verbose=1)\n",
        "\n",
        "# Evaluamos el modelo con el error de entrenamiento\n",
        "mse = model_adaline.evaluate(X, y, verbose=0)\n",
        "print(f'Adaline - MSE: {mse[1]:.4f}')"
      ],
      "metadata": {
        "colab": {
          "base_uri": "https://localhost:8080/"
        },
        "id": "EY-YJliHlYHo",
        "outputId": "ae276088-ae9e-4ab8-f352-a9d2e1ba73b9"
      },
      "execution_count": 7,
      "outputs": [
        {
          "output_type": "stream",
          "name": "stdout",
          "text": [
            "Epoch 1/100\n"
          ]
        },
        {
          "output_type": "stream",
          "name": "stderr",
          "text": [
            "/usr/local/lib/python3.10/dist-packages/keras/src/layers/core/dense.py:87: UserWarning: Do not pass an `input_shape`/`input_dim` argument to a layer. When using Sequential models, prefer using an `Input(shape)` object as the first layer in the model instead.\n",
            "  super().__init__(activity_regularizer=activity_regularizer, **kwargs)\n"
          ]
        },
        {
          "output_type": "stream",
          "name": "stdout",
          "text": [
            "\u001b[1m1/1\u001b[0m \u001b[32m━━━━━━━━━━━━━━━━━━━━\u001b[0m\u001b[37m\u001b[0m \u001b[1m0s\u001b[0m 423ms/step - loss: 3.0633 - mean_squared_error: 3.0633\n",
            "Epoch 2/100\n",
            "\u001b[1m1/1\u001b[0m \u001b[32m━━━━━━━━━━━━━━━━━━━━\u001b[0m\u001b[37m\u001b[0m \u001b[1m0s\u001b[0m 28ms/step - loss: 1.6629 - mean_squared_error: 1.6629\n",
            "Epoch 3/100\n",
            "\u001b[1m1/1\u001b[0m \u001b[32m━━━━━━━━━━━━━━━━━━━━\u001b[0m\u001b[37m\u001b[0m \u001b[1m0s\u001b[0m 33ms/step - loss: 1.1572 - mean_squared_error: 1.1572\n",
            "Epoch 4/100\n",
            "\u001b[1m1/1\u001b[0m \u001b[32m━━━━━━━━━━━━━━━━━━━━\u001b[0m\u001b[37m\u001b[0m \u001b[1m0s\u001b[0m 57ms/step - loss: 0.9593 - mean_squared_error: 0.9593\n",
            "Epoch 5/100\n",
            "\u001b[1m1/1\u001b[0m \u001b[32m━━━━━━━━━━━━━━━━━━━━\u001b[0m\u001b[37m\u001b[0m \u001b[1m0s\u001b[0m 29ms/step - loss: 0.8680 - mean_squared_error: 0.8680\n",
            "Epoch 6/100\n",
            "\u001b[1m1/1\u001b[0m \u001b[32m━━━━━━━━━━━━━━━━━━━━\u001b[0m\u001b[37m\u001b[0m \u001b[1m0s\u001b[0m 30ms/step - loss: 0.8142 - mean_squared_error: 0.8142\n",
            "Epoch 7/100\n",
            "\u001b[1m1/1\u001b[0m \u001b[32m━━━━━━━━━━━━━━━━━━━━\u001b[0m\u001b[37m\u001b[0m \u001b[1m0s\u001b[0m 31ms/step - loss: 0.7742 - mean_squared_error: 0.7742\n",
            "Epoch 8/100\n",
            "\u001b[1m1/1\u001b[0m \u001b[32m━━━━━━━━━━━━━━━━━━━━\u001b[0m\u001b[37m\u001b[0m \u001b[1m0s\u001b[0m 34ms/step - loss: 0.7398 - mean_squared_error: 0.7398\n",
            "Epoch 9/100\n",
            "\u001b[1m1/1\u001b[0m \u001b[32m━━━━━━━━━━━━━━━━━━━━\u001b[0m\u001b[37m\u001b[0m \u001b[1m0s\u001b[0m 54ms/step - loss: 0.7082 - mean_squared_error: 0.7082\n",
            "Epoch 10/100\n",
            "\u001b[1m1/1\u001b[0m \u001b[32m━━━━━━━━━━━━━━━━━━━━\u001b[0m\u001b[37m\u001b[0m \u001b[1m0s\u001b[0m 33ms/step - loss: 0.6784 - mean_squared_error: 0.6784\n",
            "Epoch 11/100\n",
            "\u001b[1m1/1\u001b[0m \u001b[32m━━━━━━━━━━━━━━━━━━━━\u001b[0m\u001b[37m\u001b[0m \u001b[1m0s\u001b[0m 32ms/step - loss: 0.6501 - mean_squared_error: 0.6501\n",
            "Epoch 12/100\n",
            "\u001b[1m1/1\u001b[0m \u001b[32m━━━━━━━━━━━━━━━━━━━━\u001b[0m\u001b[37m\u001b[0m \u001b[1m0s\u001b[0m 56ms/step - loss: 0.6229 - mean_squared_error: 0.6229\n",
            "Epoch 13/100\n",
            "\u001b[1m1/1\u001b[0m \u001b[32m━━━━━━━━━━━━━━━━━━━━\u001b[0m\u001b[37m\u001b[0m \u001b[1m0s\u001b[0m 31ms/step - loss: 0.5970 - mean_squared_error: 0.5970\n",
            "Epoch 14/100\n",
            "\u001b[1m1/1\u001b[0m \u001b[32m━━━━━━━━━━━━━━━━━━━━\u001b[0m\u001b[37m\u001b[0m \u001b[1m0s\u001b[0m 57ms/step - loss: 0.5721 - mean_squared_error: 0.5721\n",
            "Epoch 15/100\n",
            "\u001b[1m1/1\u001b[0m \u001b[32m━━━━━━━━━━━━━━━━━━━━\u001b[0m\u001b[37m\u001b[0m \u001b[1m0s\u001b[0m 30ms/step - loss: 0.5483 - mean_squared_error: 0.5483\n",
            "Epoch 16/100\n",
            "\u001b[1m1/1\u001b[0m \u001b[32m━━━━━━━━━━━━━━━━━━━━\u001b[0m\u001b[37m\u001b[0m \u001b[1m0s\u001b[0m 58ms/step - loss: 0.5254 - mean_squared_error: 0.5254\n",
            "Epoch 17/100\n",
            "\u001b[1m1/1\u001b[0m \u001b[32m━━━━━━━━━━━━━━━━━━━━\u001b[0m\u001b[37m\u001b[0m \u001b[1m0s\u001b[0m 31ms/step - loss: 0.5036 - mean_squared_error: 0.5036\n",
            "Epoch 18/100\n",
            "\u001b[1m1/1\u001b[0m \u001b[32m━━━━━━━━━━━━━━━━━━━━\u001b[0m\u001b[37m\u001b[0m \u001b[1m0s\u001b[0m 30ms/step - loss: 0.4826 - mean_squared_error: 0.4826\n",
            "Epoch 19/100\n",
            "\u001b[1m1/1\u001b[0m \u001b[32m━━━━━━━━━━━━━━━━━━━━\u001b[0m\u001b[37m\u001b[0m \u001b[1m0s\u001b[0m 30ms/step - loss: 0.4625 - mean_squared_error: 0.4625\n",
            "Epoch 20/100\n",
            "\u001b[1m1/1\u001b[0m \u001b[32m━━━━━━━━━━━━━━━━━━━━\u001b[0m\u001b[37m\u001b[0m \u001b[1m0s\u001b[0m 36ms/step - loss: 0.4433 - mean_squared_error: 0.4433\n",
            "Epoch 21/100\n",
            "\u001b[1m1/1\u001b[0m \u001b[32m━━━━━━━━━━━━━━━━━━━━\u001b[0m\u001b[37m\u001b[0m \u001b[1m0s\u001b[0m 29ms/step - loss: 0.4249 - mean_squared_error: 0.4249\n",
            "Epoch 22/100\n",
            "\u001b[1m1/1\u001b[0m \u001b[32m━━━━━━━━━━━━━━━━━━━━\u001b[0m\u001b[37m\u001b[0m \u001b[1m0s\u001b[0m 31ms/step - loss: 0.4072 - mean_squared_error: 0.4072\n",
            "Epoch 23/100\n",
            "\u001b[1m1/1\u001b[0m \u001b[32m━━━━━━━━━━━━━━━━━━━━\u001b[0m\u001b[37m\u001b[0m \u001b[1m0s\u001b[0m 57ms/step - loss: 0.3903 - mean_squared_error: 0.3903\n",
            "Epoch 24/100\n",
            "\u001b[1m1/1\u001b[0m \u001b[32m━━━━━━━━━━━━━━━━━━━━\u001b[0m\u001b[37m\u001b[0m \u001b[1m0s\u001b[0m 58ms/step - loss: 0.3741 - mean_squared_error: 0.3741\n",
            "Epoch 25/100\n",
            "\u001b[1m1/1\u001b[0m \u001b[32m━━━━━━━━━━━━━━━━━━━━\u001b[0m\u001b[37m\u001b[0m \u001b[1m0s\u001b[0m 56ms/step - loss: 0.3586 - mean_squared_error: 0.3586\n",
            "Epoch 26/100\n",
            "\u001b[1m1/1\u001b[0m \u001b[32m━━━━━━━━━━━━━━━━━━━━\u001b[0m\u001b[37m\u001b[0m \u001b[1m0s\u001b[0m 34ms/step - loss: 0.3438 - mean_squared_error: 0.3438\n",
            "Epoch 27/100\n",
            "\u001b[1m1/1\u001b[0m \u001b[32m━━━━━━━━━━━━━━━━━━━━\u001b[0m\u001b[37m\u001b[0m \u001b[1m0s\u001b[0m 38ms/step - loss: 0.3295 - mean_squared_error: 0.3295\n",
            "Epoch 28/100\n",
            "\u001b[1m1/1\u001b[0m \u001b[32m━━━━━━━━━━━━━━━━━━━━\u001b[0m\u001b[37m\u001b[0m \u001b[1m0s\u001b[0m 36ms/step - loss: 0.3159 - mean_squared_error: 0.3159\n",
            "Epoch 29/100\n",
            "\u001b[1m1/1\u001b[0m \u001b[32m━━━━━━━━━━━━━━━━━━━━\u001b[0m\u001b[37m\u001b[0m \u001b[1m0s\u001b[0m 55ms/step - loss: 0.3028 - mean_squared_error: 0.3028\n",
            "Epoch 30/100\n",
            "\u001b[1m1/1\u001b[0m \u001b[32m━━━━━━━━━━━━━━━━━━━━\u001b[0m\u001b[37m\u001b[0m \u001b[1m0s\u001b[0m 40ms/step - loss: 0.2903 - mean_squared_error: 0.2903\n",
            "Epoch 31/100\n",
            "\u001b[1m1/1\u001b[0m \u001b[32m━━━━━━━━━━━━━━━━━━━━\u001b[0m\u001b[37m\u001b[0m \u001b[1m0s\u001b[0m 39ms/step - loss: 0.2783 - mean_squared_error: 0.2783\n",
            "Epoch 32/100\n",
            "\u001b[1m1/1\u001b[0m \u001b[32m━━━━━━━━━━━━━━━━━━━━\u001b[0m\u001b[37m\u001b[0m \u001b[1m0s\u001b[0m 56ms/step - loss: 0.2668 - mean_squared_error: 0.2668\n",
            "Epoch 33/100\n",
            "\u001b[1m1/1\u001b[0m \u001b[32m━━━━━━━━━━━━━━━━━━━━\u001b[0m\u001b[37m\u001b[0m \u001b[1m0s\u001b[0m 55ms/step - loss: 0.2558 - mean_squared_error: 0.2558\n",
            "Epoch 34/100\n",
            "\u001b[1m1/1\u001b[0m \u001b[32m━━━━━━━━━━━━━━━━━━━━\u001b[0m\u001b[37m\u001b[0m \u001b[1m0s\u001b[0m 33ms/step - loss: 0.2452 - mean_squared_error: 0.2452\n",
            "Epoch 35/100\n",
            "\u001b[1m1/1\u001b[0m \u001b[32m━━━━━━━━━━━━━━━━━━━━\u001b[0m\u001b[37m\u001b[0m \u001b[1m0s\u001b[0m 39ms/step - loss: 0.2351 - mean_squared_error: 0.2351\n",
            "Epoch 36/100\n",
            "\u001b[1m1/1\u001b[0m \u001b[32m━━━━━━━━━━━━━━━━━━━━\u001b[0m\u001b[37m\u001b[0m \u001b[1m0s\u001b[0m 55ms/step - loss: 0.2254 - mean_squared_error: 0.2254\n",
            "Epoch 37/100\n",
            "\u001b[1m1/1\u001b[0m \u001b[32m━━━━━━━━━━━━━━━━━━━━\u001b[0m\u001b[37m\u001b[0m \u001b[1m0s\u001b[0m 30ms/step - loss: 0.2162 - mean_squared_error: 0.2162\n",
            "Epoch 38/100\n",
            "\u001b[1m1/1\u001b[0m \u001b[32m━━━━━━━━━━━━━━━━━━━━\u001b[0m\u001b[37m\u001b[0m \u001b[1m0s\u001b[0m 29ms/step - loss: 0.2073 - mean_squared_error: 0.2073\n",
            "Epoch 39/100\n",
            "\u001b[1m1/1\u001b[0m \u001b[32m━━━━━━━━━━━━━━━━━━━━\u001b[0m\u001b[37m\u001b[0m \u001b[1m0s\u001b[0m 31ms/step - loss: 0.1988 - mean_squared_error: 0.1988\n",
            "Epoch 40/100\n",
            "\u001b[1m1/1\u001b[0m \u001b[32m━━━━━━━━━━━━━━━━━━━━\u001b[0m\u001b[37m\u001b[0m \u001b[1m0s\u001b[0m 38ms/step - loss: 0.1906 - mean_squared_error: 0.1906\n",
            "Epoch 41/100\n",
            "\u001b[1m1/1\u001b[0m \u001b[32m━━━━━━━━━━━━━━━━━━━━\u001b[0m\u001b[37m\u001b[0m \u001b[1m0s\u001b[0m 32ms/step - loss: 0.1828 - mean_squared_error: 0.1828\n",
            "Epoch 42/100\n",
            "\u001b[1m1/1\u001b[0m \u001b[32m━━━━━━━━━━━━━━━━━━━━\u001b[0m\u001b[37m\u001b[0m \u001b[1m0s\u001b[0m 30ms/step - loss: 0.1753 - mean_squared_error: 0.1753\n",
            "Epoch 43/100\n",
            "\u001b[1m1/1\u001b[0m \u001b[32m━━━━━━━━━━━━━━━━━━━━\u001b[0m\u001b[37m\u001b[0m \u001b[1m0s\u001b[0m 28ms/step - loss: 0.1681 - mean_squared_error: 0.1681\n",
            "Epoch 44/100\n",
            "\u001b[1m1/1\u001b[0m \u001b[32m━━━━━━━━━━━━━━━━━━━━\u001b[0m\u001b[37m\u001b[0m \u001b[1m0s\u001b[0m 63ms/step - loss: 0.1613 - mean_squared_error: 0.1613\n",
            "Epoch 45/100\n",
            "\u001b[1m1/1\u001b[0m \u001b[32m━━━━━━━━━━━━━━━━━━━━\u001b[0m\u001b[37m\u001b[0m \u001b[1m0s\u001b[0m 43ms/step - loss: 0.1547 - mean_squared_error: 0.1547\n",
            "Epoch 46/100\n",
            "\u001b[1m1/1\u001b[0m \u001b[32m━━━━━━━━━━━━━━━━━━━━\u001b[0m\u001b[37m\u001b[0m \u001b[1m0s\u001b[0m 34ms/step - loss: 0.1484 - mean_squared_error: 0.1484\n",
            "Epoch 47/100\n",
            "\u001b[1m1/1\u001b[0m \u001b[32m━━━━━━━━━━━━━━━━━━━━\u001b[0m\u001b[37m\u001b[0m \u001b[1m0s\u001b[0m 40ms/step - loss: 0.1423 - mean_squared_error: 0.1423\n",
            "Epoch 48/100\n",
            "\u001b[1m1/1\u001b[0m \u001b[32m━━━━━━━━━━━━━━━━━━━━\u001b[0m\u001b[37m\u001b[0m \u001b[1m0s\u001b[0m 40ms/step - loss: 0.1365 - mean_squared_error: 0.1365\n",
            "Epoch 49/100\n",
            "\u001b[1m1/1\u001b[0m \u001b[32m━━━━━━━━━━━━━━━━━━━━\u001b[0m\u001b[37m\u001b[0m \u001b[1m0s\u001b[0m 55ms/step - loss: 0.1310 - mean_squared_error: 0.1310\n",
            "Epoch 50/100\n",
            "\u001b[1m1/1\u001b[0m \u001b[32m━━━━━━━━━━━━━━━━━━━━\u001b[0m\u001b[37m\u001b[0m \u001b[1m0s\u001b[0m 32ms/step - loss: 0.1257 - mean_squared_error: 0.1257\n",
            "Epoch 51/100\n",
            "\u001b[1m1/1\u001b[0m \u001b[32m━━━━━━━━━━━━━━━━━━━━\u001b[0m\u001b[37m\u001b[0m \u001b[1m0s\u001b[0m 54ms/step - loss: 0.1206 - mean_squared_error: 0.1206\n",
            "Epoch 52/100\n",
            "\u001b[1m1/1\u001b[0m \u001b[32m━━━━━━━━━━━━━━━━━━━━\u001b[0m\u001b[37m\u001b[0m \u001b[1m0s\u001b[0m 58ms/step - loss: 0.1157 - mean_squared_error: 0.1157\n",
            "Epoch 53/100\n",
            "\u001b[1m1/1\u001b[0m \u001b[32m━━━━━━━━━━━━━━━━━━━━\u001b[0m\u001b[37m\u001b[0m \u001b[1m0s\u001b[0m 32ms/step - loss: 0.1110 - mean_squared_error: 0.1110\n",
            "Epoch 54/100\n",
            "\u001b[1m1/1\u001b[0m \u001b[32m━━━━━━━━━━━━━━━━━━━━\u001b[0m\u001b[37m\u001b[0m \u001b[1m0s\u001b[0m 28ms/step - loss: 0.1066 - mean_squared_error: 0.1066\n",
            "Epoch 55/100\n",
            "\u001b[1m1/1\u001b[0m \u001b[32m━━━━━━━━━━━━━━━━━━━━\u001b[0m\u001b[37m\u001b[0m \u001b[1m0s\u001b[0m 29ms/step - loss: 0.1023 - mean_squared_error: 0.1023\n",
            "Epoch 56/100\n",
            "\u001b[1m1/1\u001b[0m \u001b[32m━━━━━━━━━━━━━━━━━━━━\u001b[0m\u001b[37m\u001b[0m \u001b[1m0s\u001b[0m 32ms/step - loss: 0.0982 - mean_squared_error: 0.0982\n",
            "Epoch 57/100\n",
            "\u001b[1m1/1\u001b[0m \u001b[32m━━━━━━━━━━━━━━━━━━━━\u001b[0m\u001b[37m\u001b[0m \u001b[1m0s\u001b[0m 57ms/step - loss: 0.0942 - mean_squared_error: 0.0942\n",
            "Epoch 58/100\n",
            "\u001b[1m1/1\u001b[0m \u001b[32m━━━━━━━━━━━━━━━━━━━━\u001b[0m\u001b[37m\u001b[0m \u001b[1m0s\u001b[0m 31ms/step - loss: 0.0905 - mean_squared_error: 0.0905\n",
            "Epoch 59/100\n",
            "\u001b[1m1/1\u001b[0m \u001b[32m━━━━━━━━━━━━━━━━━━━━\u001b[0m\u001b[37m\u001b[0m \u001b[1m0s\u001b[0m 32ms/step - loss: 0.0869 - mean_squared_error: 0.0869\n",
            "Epoch 60/100\n",
            "\u001b[1m1/1\u001b[0m \u001b[32m━━━━━━━━━━━━━━━━━━━━\u001b[0m\u001b[37m\u001b[0m \u001b[1m0s\u001b[0m 29ms/step - loss: 0.0834 - mean_squared_error: 0.0834\n",
            "Epoch 61/100\n",
            "\u001b[1m1/1\u001b[0m \u001b[32m━━━━━━━━━━━━━━━━━━━━\u001b[0m\u001b[37m\u001b[0m \u001b[1m0s\u001b[0m 36ms/step - loss: 0.0801 - mean_squared_error: 0.0801\n",
            "Epoch 62/100\n",
            "\u001b[1m1/1\u001b[0m \u001b[32m━━━━━━━━━━━━━━━━━━━━\u001b[0m\u001b[37m\u001b[0m \u001b[1m0s\u001b[0m 30ms/step - loss: 0.0769 - mean_squared_error: 0.0769\n",
            "Epoch 63/100\n",
            "\u001b[1m1/1\u001b[0m \u001b[32m━━━━━━━━━━━━━━━━━━━━\u001b[0m\u001b[37m\u001b[0m \u001b[1m0s\u001b[0m 32ms/step - loss: 0.0739 - mean_squared_error: 0.0739\n",
            "Epoch 64/100\n",
            "\u001b[1m1/1\u001b[0m \u001b[32m━━━━━━━━━━━━━━━━━━━━\u001b[0m\u001b[37m\u001b[0m \u001b[1m0s\u001b[0m 30ms/step - loss: 0.0709 - mean_squared_error: 0.0709\n",
            "Epoch 65/100\n",
            "\u001b[1m1/1\u001b[0m \u001b[32m━━━━━━━━━━━━━━━━━━━━\u001b[0m\u001b[37m\u001b[0m \u001b[1m0s\u001b[0m 31ms/step - loss: 0.0681 - mean_squared_error: 0.0681\n",
            "Epoch 66/100\n",
            "\u001b[1m1/1\u001b[0m \u001b[32m━━━━━━━━━━━━━━━━━━━━\u001b[0m\u001b[37m\u001b[0m \u001b[1m0s\u001b[0m 60ms/step - loss: 0.0655 - mean_squared_error: 0.0655\n",
            "Epoch 67/100\n",
            "\u001b[1m1/1\u001b[0m \u001b[32m━━━━━━━━━━━━━━━━━━━━\u001b[0m\u001b[37m\u001b[0m \u001b[1m0s\u001b[0m 56ms/step - loss: 0.0629 - mean_squared_error: 0.0629\n",
            "Epoch 68/100\n",
            "\u001b[1m1/1\u001b[0m \u001b[32m━━━━━━━━━━━━━━━━━━━━\u001b[0m\u001b[37m\u001b[0m \u001b[1m0s\u001b[0m 39ms/step - loss: 0.0604 - mean_squared_error: 0.0604\n",
            "Epoch 69/100\n",
            "\u001b[1m1/1\u001b[0m \u001b[32m━━━━━━━━━━━━━━━━━━━━\u001b[0m\u001b[37m\u001b[0m \u001b[1m0s\u001b[0m 34ms/step - loss: 0.0581 - mean_squared_error: 0.0581\n",
            "Epoch 70/100\n",
            "\u001b[1m1/1\u001b[0m \u001b[32m━━━━━━━━━━━━━━━━━━━━\u001b[0m\u001b[37m\u001b[0m \u001b[1m0s\u001b[0m 55ms/step - loss: 0.0558 - mean_squared_error: 0.0558\n",
            "Epoch 71/100\n",
            "\u001b[1m1/1\u001b[0m \u001b[32m━━━━━━━━━━━━━━━━━━━━\u001b[0m\u001b[37m\u001b[0m \u001b[1m0s\u001b[0m 37ms/step - loss: 0.0537 - mean_squared_error: 0.0537\n",
            "Epoch 72/100\n",
            "\u001b[1m1/1\u001b[0m \u001b[32m━━━━━━━━━━━━━━━━━━━━\u001b[0m\u001b[37m\u001b[0m \u001b[1m0s\u001b[0m 58ms/step - loss: 0.0516 - mean_squared_error: 0.0516\n",
            "Epoch 73/100\n",
            "\u001b[1m1/1\u001b[0m \u001b[32m━━━━━━━━━━━━━━━━━━━━\u001b[0m\u001b[37m\u001b[0m \u001b[1m0s\u001b[0m 43ms/step - loss: 0.0496 - mean_squared_error: 0.0496\n",
            "Epoch 74/100\n",
            "\u001b[1m1/1\u001b[0m \u001b[32m━━━━━━━━━━━━━━━━━━━━\u001b[0m\u001b[37m\u001b[0m \u001b[1m0s\u001b[0m 37ms/step - loss: 0.0477 - mean_squared_error: 0.0477\n",
            "Epoch 75/100\n",
            "\u001b[1m1/1\u001b[0m \u001b[32m━━━━━━━━━━━━━━━━━━━━\u001b[0m\u001b[37m\u001b[0m \u001b[1m0s\u001b[0m 55ms/step - loss: 0.0459 - mean_squared_error: 0.0459\n",
            "Epoch 76/100\n",
            "\u001b[1m1/1\u001b[0m \u001b[32m━━━━━━━━━━━━━━━━━━━━\u001b[0m\u001b[37m\u001b[0m \u001b[1m0s\u001b[0m 34ms/step - loss: 0.0441 - mean_squared_error: 0.0441\n",
            "Epoch 77/100\n",
            "\u001b[1m1/1\u001b[0m \u001b[32m━━━━━━━━━━━━━━━━━━━━\u001b[0m\u001b[37m\u001b[0m \u001b[1m0s\u001b[0m 55ms/step - loss: 0.0425 - mean_squared_error: 0.0425\n",
            "Epoch 78/100\n",
            "\u001b[1m1/1\u001b[0m \u001b[32m━━━━━━━━━━━━━━━━━━━━\u001b[0m\u001b[37m\u001b[0m \u001b[1m0s\u001b[0m 32ms/step - loss: 0.0409 - mean_squared_error: 0.0409\n",
            "Epoch 79/100\n",
            "\u001b[1m1/1\u001b[0m \u001b[32m━━━━━━━━━━━━━━━━━━━━\u001b[0m\u001b[37m\u001b[0m \u001b[1m0s\u001b[0m 33ms/step - loss: 0.0393 - mean_squared_error: 0.0393\n",
            "Epoch 80/100\n",
            "\u001b[1m1/1\u001b[0m \u001b[32m━━━━━━━━━━━━━━━━━━━━\u001b[0m\u001b[37m\u001b[0m \u001b[1m0s\u001b[0m 30ms/step - loss: 0.0379 - mean_squared_error: 0.0379\n",
            "Epoch 81/100\n",
            "\u001b[1m1/1\u001b[0m \u001b[32m━━━━━━━━━━━━━━━━━━━━\u001b[0m\u001b[37m\u001b[0m \u001b[1m0s\u001b[0m 31ms/step - loss: 0.0365 - mean_squared_error: 0.0365\n",
            "Epoch 82/100\n",
            "\u001b[1m1/1\u001b[0m \u001b[32m━━━━━━━━━━━━━━━━━━━━\u001b[0m\u001b[37m\u001b[0m \u001b[1m0s\u001b[0m 34ms/step - loss: 0.0351 - mean_squared_error: 0.0351\n",
            "Epoch 83/100\n",
            "\u001b[1m1/1\u001b[0m \u001b[32m━━━━━━━━━━━━━━━━━━━━\u001b[0m\u001b[37m\u001b[0m \u001b[1m0s\u001b[0m 55ms/step - loss: 0.0338 - mean_squared_error: 0.0338\n",
            "Epoch 84/100\n",
            "\u001b[1m1/1\u001b[0m \u001b[32m━━━━━━━━━━━━━━━━━━━━\u001b[0m\u001b[37m\u001b[0m \u001b[1m0s\u001b[0m 58ms/step - loss: 0.0326 - mean_squared_error: 0.0326\n",
            "Epoch 85/100\n",
            "\u001b[1m1/1\u001b[0m \u001b[32m━━━━━━━━━━━━━━━━━━━━\u001b[0m\u001b[37m\u001b[0m \u001b[1m0s\u001b[0m 29ms/step - loss: 0.0314 - mean_squared_error: 0.0314\n",
            "Epoch 86/100\n",
            "\u001b[1m1/1\u001b[0m \u001b[32m━━━━━━━━━━━━━━━━━━━━\u001b[0m\u001b[37m\u001b[0m \u001b[1m0s\u001b[0m 31ms/step - loss: 0.0302 - mean_squared_error: 0.0302\n",
            "Epoch 87/100\n",
            "\u001b[1m1/1\u001b[0m \u001b[32m━━━━━━━━━━━━━━━━━━━━\u001b[0m\u001b[37m\u001b[0m \u001b[1m0s\u001b[0m 38ms/step - loss: 0.0292 - mean_squared_error: 0.0292\n",
            "Epoch 88/100\n",
            "\u001b[1m1/1\u001b[0m \u001b[32m━━━━━━━━━━━━━━━━━━━━\u001b[0m\u001b[37m\u001b[0m \u001b[1m0s\u001b[0m 66ms/step - loss: 0.0281 - mean_squared_error: 0.0281\n",
            "Epoch 89/100\n",
            "\u001b[1m1/1\u001b[0m \u001b[32m━━━━━━━━━━━━━━━━━━━━\u001b[0m\u001b[37m\u001b[0m \u001b[1m0s\u001b[0m 45ms/step - loss: 0.0271 - mean_squared_error: 0.0271\n",
            "Epoch 90/100\n",
            "\u001b[1m1/1\u001b[0m \u001b[32m━━━━━━━━━━━━━━━━━━━━\u001b[0m\u001b[37m\u001b[0m \u001b[1m0s\u001b[0m 39ms/step - loss: 0.0261 - mean_squared_error: 0.0261\n",
            "Epoch 91/100\n",
            "\u001b[1m1/1\u001b[0m \u001b[32m━━━━━━━━━━━━━━━━━━━━\u001b[0m\u001b[37m\u001b[0m \u001b[1m0s\u001b[0m 36ms/step - loss: 0.0252 - mean_squared_error: 0.0252\n",
            "Epoch 92/100\n",
            "\u001b[1m1/1\u001b[0m \u001b[32m━━━━━━━━━━━━━━━━━━━━\u001b[0m\u001b[37m\u001b[0m \u001b[1m0s\u001b[0m 35ms/step - loss: 0.0243 - mean_squared_error: 0.0243\n",
            "Epoch 93/100\n",
            "\u001b[1m1/1\u001b[0m \u001b[32m━━━━━━━━━━━━━━━━━━━━\u001b[0m\u001b[37m\u001b[0m \u001b[1m0s\u001b[0m 29ms/step - loss: 0.0235 - mean_squared_error: 0.0235\n",
            "Epoch 94/100\n",
            "\u001b[1m1/1\u001b[0m \u001b[32m━━━━━━━━━━━━━━━━━━━━\u001b[0m\u001b[37m\u001b[0m \u001b[1m0s\u001b[0m 30ms/step - loss: 0.0227 - mean_squared_error: 0.0227\n",
            "Epoch 95/100\n",
            "\u001b[1m1/1\u001b[0m \u001b[32m━━━━━━━━━━━━━━━━━━━━\u001b[0m\u001b[37m\u001b[0m \u001b[1m0s\u001b[0m 56ms/step - loss: 0.0219 - mean_squared_error: 0.0219\n",
            "Epoch 96/100\n",
            "\u001b[1m1/1\u001b[0m \u001b[32m━━━━━━━━━━━━━━━━━━━━\u001b[0m\u001b[37m\u001b[0m \u001b[1m0s\u001b[0m 33ms/step - loss: 0.0212 - mean_squared_error: 0.0212\n",
            "Epoch 97/100\n",
            "\u001b[1m1/1\u001b[0m \u001b[32m━━━━━━━━━━━━━━━━━━━━\u001b[0m\u001b[37m\u001b[0m \u001b[1m0s\u001b[0m 30ms/step - loss: 0.0205 - mean_squared_error: 0.0205\n",
            "Epoch 98/100\n",
            "\u001b[1m1/1\u001b[0m \u001b[32m━━━━━━━━━━━━━━━━━━━━\u001b[0m\u001b[37m\u001b[0m \u001b[1m0s\u001b[0m 29ms/step - loss: 0.0198 - mean_squared_error: 0.0198\n",
            "Epoch 99/100\n",
            "\u001b[1m1/1\u001b[0m \u001b[32m━━━━━━━━━━━━━━━━━━━━\u001b[0m\u001b[37m\u001b[0m \u001b[1m0s\u001b[0m 29ms/step - loss: 0.0191 - mean_squared_error: 0.0191\n",
            "Epoch 100/100\n",
            "\u001b[1m1/1\u001b[0m \u001b[32m━━━━━━━━━━━━━━━━━━━━\u001b[0m\u001b[37m\u001b[0m \u001b[1m0s\u001b[0m 28ms/step - loss: 0.0185 - mean_squared_error: 0.0185\n",
            "Adaline - MSE: 0.0179\n"
          ]
        }
      ]
    },
    {
      "cell_type": "markdown",
      "source": [
        "## Implementación con `Pytorch`"
      ],
      "metadata": {
        "id": "Z63mAxDaoc0E"
      }
    },
    {
      "cell_type": "code",
      "source": [
        "import torch\n",
        "import torch.nn as nn\n",
        "import torch.optim as optim\n",
        "\n",
        "# Declaramos los datos como tensores, tanto en la matriz de características\n",
        "X = torch.tensor([\n",
        "    [5, 1.5, 1],\n",
        "    [3, 2.0, 0],\n",
        "    [4, 1.0, 1],\n",
        "    [2, 2.5, 0],\n",
        "    [6, 1.2, 1],\n",
        "    [3.5, 2.2, 0]\n",
        "], dtype=torch.float32)\n",
        "\n",
        "\n",
        "# como la de la característica objetivo\n",
        "y = torch.tensor([[1], [0], [1], [0], [1], [0]], dtype=torch.float32)"
      ],
      "metadata": {
        "id": "YEDGwe29zGlD"
      },
      "execution_count": 5,
      "outputs": []
    },
    {
      "cell_type": "code",
      "source": [
        "# Hacemos algo muy similar al caso del Perceptrón. Creamos la clase Adaline que\n",
        "# hereda de nn.Module.\n",
        "\n",
        "class Adaline(nn.Module):\n",
        "    def __init__(self):\n",
        "        super(Adaline, self).__init__()\n",
        "        self.linear = nn.Linear(3, 1) #tenemos 3 entradas y solo una neurona operando\n",
        "\n",
        "    def forward(self, x):\n",
        "        return self.linear(x) #tenemos la función de activación lineal a la salida\n",
        "\n",
        "model_adaline_pytorch = Adaline() #creamos el objeto model_adaline_pytorch de la clase Adaline\n",
        "\n",
        "# Definimos la función de pérdida con el MSE y el optimizador de gradiente descendente estocástico\n",
        "criterion_adaline = nn.MSELoss()\n",
        "optimizer_adaline = optim.SGD(model_adaline_pytorch.parameters(), lr=0.01) #como hiperpámetro está la tasa de aprendizaje\n",
        "\n",
        "# Entrenamos el modelo como en el caso del perceptrón\n",
        "for epoch in range(100):\n",
        "    optimizer_adaline.zero_grad()\n",
        "    outputs = model_adaline_pytorch(X)\n",
        "    loss = criterion_adaline(outputs, y)\n",
        "    loss.backward()\n",
        "    optimizer_adaline.step()\n",
        "\n",
        "# Evaluamos el modelo con el error de entrenamiento y el MSE\n",
        "with torch.no_grad():\n",
        "    mse = criterion_adaline(model_adaline_pytorch(X), y)\n",
        "    print(f'Adaline (PyTorch) - MSE: {mse.item():.4f}')"
      ],
      "metadata": {
        "colab": {
          "base_uri": "https://localhost:8080/"
        },
        "id": "y3FJ4PWXzubp",
        "outputId": "b94ab3a9-da54-468a-8490-d7b82becd292"
      },
      "execution_count": 6,
      "outputs": [
        {
          "output_type": "stream",
          "name": "stdout",
          "text": [
            "Adaline (PyTorch) - MSE: 0.0152\n"
          ]
        }
      ]
    }
  ]
}